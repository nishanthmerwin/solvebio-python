{
 "cells": [
  {
   "cell_type": "markdown",
   "metadata": {},
   "source": [
    "## Global Beacon"
   ]
  },
  {
   "cell_type": "markdown",
   "metadata": {},
   "source": [
    "Global Beacon lets anyone in your organization find datasets based on the entities it contains (i.e. variants, genets, targets). \n",
    "\n",
    "`Note`: Only datasets that contain entities can be indexed."
   ]
  },
  {
   "cell_type": "markdown",
   "metadata": {},
   "source": [
    "### Importing SolveBio library and logging in"
   ]
  },
  {
   "cell_type": "code",
   "execution_count": 1,
   "metadata": {},
   "outputs": [],
   "source": [
    "# Importing SolveBio library\n",
    "from solvebio import login\n",
    "from solvebio import Object"
   ]
  },
  {
   "cell_type": "code",
   "execution_count": 2,
   "metadata": {},
   "outputs": [
    {
     "data": {
      "text/plain": [
       "True"
      ]
     },
     "execution_count": 2,
     "metadata": {},
     "output_type": "execute_result"
    }
   ],
   "source": [
    "# Logging to SolveBio\n",
    "login()"
   ]
  },
  {
   "cell_type": "markdown",
   "metadata": {},
   "source": [
    "### Enabling Global Beacon on dataset"
   ]
  },
  {
   "cell_type": "markdown",
   "metadata": {},
   "source": [
    "First let’s start with enabling Global Beacon on the dataset:"
   ]
  },
  {
   "cell_type": "code",
   "execution_count": 3,
   "metadata": {},
   "outputs": [
    {
     "data": {
      "text/plain": [
       "|                  Fields | Data                                               |\n",
       "|-------------------------+----------------------------------------------------|\n",
       "|              account_id | 51                                                 |\n",
       "|     ancestor_object_ids | [u'1661598621921253160']                           |\n",
       "|            availability | available                                          |\n",
       "|              class_name | Object                                             |\n",
       "|              created_at | 2021-11-29T11:24:42.093Z                           |\n",
       "|     dataset_description | test                                               |\n",
       "| dataset_documents_count | 26312                                              |\n",
       "|       dataset_full_name | 1658666726768179211                                |\n",
       "|              dataset_id | 1658666726768179211                                |\n",
       "|                   depth | 1                                                  |\n",
       "|             description | test                                               |\n",
       "|         documents_count | 26312                                              |\n",
       "|                filename | BEACONS-TEST-Genes-94-human-mouse-wOXjFS-1426764376|\n",
       "|               full_path | solvebio:user-8677:/Krivi's data/BEACONS-TEST-Genes|\n",
       "|           global_beacon |                                                    |\n",
       "|            has_children | False                                              |\n",
       "|     has_folder_children | False                                              |\n",
       "|                      id | 1658666726768179211                                |\n",
       "|              is_deleted | False                                              |\n",
       "|        is_transformable | False                                              |\n",
       "|           last_accessed | 2022-01-12T13:04:24Z                               |\n",
       "|           last_modified | 2021-11-29T11:27:06.214Z                           |\n",
       "|                     md5 |                                                    |\n",
       "|                metadata | {}                                                 |\n",
       "|                mimetype | application/vnd.solvebio.dataset                   |\n",
       "|            num_children | 0                                                  |\n",
       "|         num_descendants | 0                                                  |\n",
       "|             object_type | dataset                                            |\n",
       "|        parent_object_id | 1661598621921253160                                |\n",
       "|                    path | /Krivi's data/BEACONS-TEST-Genes-94-human-mouse-wOX|\n",
       "|                    size |                                                    |\n",
       "|           storage_class | Standard-IA                                        |\n",
       "|                    tags | [u'other tag', u'test tag with comma,']            |\n",
       "|              updated_at | 2021-12-16T14:01:12.593Z                           |\n",
       "|              upload_url |                                                    |\n",
       "|                     url |                                                    |\n",
       "|                    user | {  \"class_name\": \"User\",   \"email\": \"nkrivacev ... |\n",
       "|                 user_id | 8677                                               |\n",
       "|                vault_id | 8167                                               |\n",
       "|              vault_name | user-8677                                          |"
      ]
     },
     "execution_count": 3,
     "metadata": {},
     "output_type": "execute_result"
    }
   ],
   "source": [
    "# Getting the dataset\n",
    "dataset = Object.retrieve(1658666726768179211)\n",
    "dataset"
   ]
  },
  {
   "cell_type": "code",
   "execution_count": 4,
   "metadata": {},
   "outputs": [
    {
     "data": {
      "text/plain": [
       "{u'dataset_id': 1658666726768179211,\n",
       " u'datastore_id': 6,\n",
       " u'id': 120,\n",
       " u'is_deleted': False,\n",
       " u'progress_percent': 0,\n",
       " u'status': u'indexing'}"
      ]
     },
     "execution_count": 4,
     "metadata": {},
     "output_type": "execute_result"
    }
   ],
   "source": [
    "# Enabling Global Beacon on dataset\n",
    "dataset.enable_global_beacon()"
   ]
  },
  {
   "cell_type": "markdown",
   "metadata": {},
   "source": [
    "Please notice that in the response, attribute status is `indexing`. While indexing is still in progress you won't be able to perform Global Beacon Search."
   ]
  },
  {
   "cell_type": "markdown",
   "metadata": {},
   "source": [
    "### Checking the status of Global Beacon"
   ]
  },
  {
   "cell_type": "markdown",
   "metadata": {},
   "source": [
    "Let’s check now the status of Global Beacon indexing for the datasets:"
   ]
  },
  {
   "cell_type": "code",
   "execution_count": 5,
   "metadata": {},
   "outputs": [
    {
     "data": {
      "text/plain": [
       "{u'dataset_id': 1658666726768179211,\n",
       " u'datastore_id': 6,\n",
       " u'id': 120,\n",
       " u'is_deleted': False,\n",
       " u'progress_percent': 100,\n",
       " u'status': u'completed'}"
      ]
     },
     "execution_count": 5,
     "metadata": {},
     "output_type": "execute_result"
    }
   ],
   "source": [
    "# Getting the status of global beacon on the dataset\n",
    "dataset.get_global_beacon_status()"
   ]
  },
  {
   "cell_type": "markdown",
   "metadata": {},
   "source": [
    "As we can see, indexing has been completed (status is `completed` and progress percentage is `100%`). "
   ]
  },
  {
   "cell_type": "markdown",
   "metadata": {},
   "source": [
    "### Disabling Global Beacon on dataset"
   ]
  },
  {
   "cell_type": "markdown",
   "metadata": {},
   "source": [
    "Now when we made sure that global beacon exists for the dataset, when we don't need it any more, we can disable/delete it."
   ]
  },
  {
   "cell_type": "code",
   "execution_count": 6,
   "metadata": {},
   "outputs": [
    {
     "data": {
      "text/plain": [
       "{u'dataset_id': 1658666726768179211,\n",
       " u'datastore_id': 6,\n",
       " u'id': 120,\n",
       " u'is_deleted': False,\n",
       " u'progress_percent': 0,\n",
       " u'status': u'destroying'}"
      ]
     },
     "execution_count": 6,
     "metadata": {},
     "output_type": "execute_result"
    }
   ],
   "source": [
    "# Disabling Global Beacon on dataset\n",
    "dataset.disable_global_beacon()"
   ]
  },
  {
   "cell_type": "markdown",
   "metadata": {},
   "source": [
    "We can see in the response that the status is now `destroying`."
   ]
  },
  {
   "cell_type": "markdown",
   "metadata": {},
   "source": [
    "When Global Beacon index has been deleted on the dataset, if we try to get the Global Beacon for that dataset, we'll get `404` error with following message: `\"Error: No Global Beacon for Dataset:DATASET_ID\"`"
   ]
  },
  {
   "cell_type": "code",
   "execution_count": 7,
   "metadata": {},
   "outputs": [
    {
     "ename": "SolveError",
     "evalue": "404 Not Found (https://solvebio.api-stag.solvebio.com/v2/objects/1658666726768179211/beacon)\nError: No Global Beacon for Dataset:1658666726768179211",
     "output_type": "error",
     "traceback": [
      "\u001b[0;31m\u001b[0m",
      "\u001b[0;31mSolveError\u001b[0mTraceback (most recent call last)",
      "\u001b[0;32m<ipython-input-7-ccf80c867169>\u001b[0m in \u001b[0;36m<module>\u001b[0;34m()\u001b[0m\n\u001b[1;32m      1\u001b[0m \u001b[0;31m# Getting the status of global beacon on the dataset\u001b[0m\u001b[0;34m\u001b[0m\u001b[0;34m\u001b[0m\u001b[0m\n\u001b[0;32m----> 2\u001b[0;31m \u001b[0mdataset\u001b[0m\u001b[0;34m.\u001b[0m\u001b[0mget_global_beacon_status\u001b[0m\u001b[0;34m(\u001b[0m\u001b[0;34m)\u001b[0m\u001b[0;34m\u001b[0m\u001b[0m\n\u001b[0m",
      "\u001b[0;32m/Users/solvebio/Projects/solvebio-python/solvebio/resource/object.pyc\u001b[0m in \u001b[0;36mget_global_beacon_status\u001b[0;34m(self)\u001b[0m\n\u001b[1;32m    633\u001b[0m             \u001b[0;32mraise\u001b[0m \u001b[0mSolveError\u001b[0m\u001b[0;34m(\u001b[0m\u001b[0;34m\"Only dataset objects can be Global Beacons.\"\u001b[0m\u001b[0;34m)\u001b[0m\u001b[0;34m\u001b[0m\u001b[0m\n\u001b[1;32m    634\u001b[0m \u001b[0;34m\u001b[0m\u001b[0m\n\u001b[0;32m--> 635\u001b[0;31m         \u001b[0;32mreturn\u001b[0m \u001b[0mself\u001b[0m\u001b[0;34m.\u001b[0m\u001b[0m_client\u001b[0m\u001b[0;34m.\u001b[0m\u001b[0mget\u001b[0m\u001b[0;34m(\u001b[0m\u001b[0mself\u001b[0m\u001b[0;34m.\u001b[0m\u001b[0minstance_url\u001b[0m\u001b[0;34m(\u001b[0m\u001b[0;34m)\u001b[0m \u001b[0;34m+\u001b[0m \u001b[0;34m'/beacon'\u001b[0m\u001b[0;34m,\u001b[0m \u001b[0;34m{\u001b[0m\u001b[0;34m}\u001b[0m\u001b[0;34m)\u001b[0m\u001b[0;34m\u001b[0m\u001b[0m\n\u001b[0m",
      "\u001b[0;32m/Users/solvebio/Projects/solvebio-python/solvebio/client.pyc\u001b[0m in \u001b[0;36mget\u001b[0;34m(self, url, params, **kwargs)\u001b[0m\n\u001b[1;32m    159\u001b[0m         library. See *request()* for information on keyword args.\"\"\"\n\u001b[1;32m    160\u001b[0m         \u001b[0mkwargs\u001b[0m\u001b[0;34m[\u001b[0m\u001b[0;34m'params'\u001b[0m\u001b[0;34m]\u001b[0m \u001b[0;34m=\u001b[0m \u001b[0mparams\u001b[0m\u001b[0;34m\u001b[0m\u001b[0m\n\u001b[0;32m--> 161\u001b[0;31m         \u001b[0;32mreturn\u001b[0m \u001b[0mself\u001b[0m\u001b[0;34m.\u001b[0m\u001b[0mrequest\u001b[0m\u001b[0;34m(\u001b[0m\u001b[0;34m'GET'\u001b[0m\u001b[0;34m,\u001b[0m \u001b[0murl\u001b[0m\u001b[0;34m,\u001b[0m \u001b[0;34m**\u001b[0m\u001b[0mkwargs\u001b[0m\u001b[0;34m)\u001b[0m\u001b[0;34m\u001b[0m\u001b[0m\n\u001b[0m\u001b[1;32m    162\u001b[0m \u001b[0;34m\u001b[0m\u001b[0m\n\u001b[1;32m    163\u001b[0m     \u001b[0;32mdef\u001b[0m \u001b[0mpost\u001b[0m\u001b[0;34m(\u001b[0m\u001b[0mself\u001b[0m\u001b[0;34m,\u001b[0m \u001b[0murl\u001b[0m\u001b[0;34m,\u001b[0m \u001b[0mdata\u001b[0m\u001b[0;34m,\u001b[0m \u001b[0;34m**\u001b[0m\u001b[0mkwargs\u001b[0m\u001b[0;34m)\u001b[0m\u001b[0;34m:\u001b[0m\u001b[0;34m\u001b[0m\u001b[0m\n",
      "\u001b[0;32m/Users/solvebio/Projects/solvebio-python/solvebio/client.pyc\u001b[0m in \u001b[0;36mrequest\u001b[0;34m(self, method, url, **kwargs)\u001b[0m\n\u001b[1;32m    261\u001b[0m \u001b[0;34m\u001b[0m\u001b[0m\n\u001b[1;32m    262\u001b[0m         \u001b[0;32mif\u001b[0m \u001b[0;32mnot\u001b[0m \u001b[0;34m(\u001b[0m\u001b[0;36m200\u001b[0m \u001b[0;34m<=\u001b[0m \u001b[0mresponse\u001b[0m\u001b[0;34m.\u001b[0m\u001b[0mstatus_code\u001b[0m \u001b[0;34m<\u001b[0m \u001b[0;36m400\u001b[0m\u001b[0;34m)\u001b[0m\u001b[0;34m:\u001b[0m\u001b[0;34m\u001b[0m\u001b[0m\n\u001b[0;32m--> 263\u001b[0;31m             \u001b[0m_handle_api_error\u001b[0m\u001b[0;34m(\u001b[0m\u001b[0mresponse\u001b[0m\u001b[0;34m)\u001b[0m\u001b[0;34m\u001b[0m\u001b[0m\n\u001b[0m\u001b[1;32m    264\u001b[0m \u001b[0;34m\u001b[0m\u001b[0m\n\u001b[1;32m    265\u001b[0m         \u001b[0;31m# 204 is used on deletion. There is no JSON here.\u001b[0m\u001b[0;34m\u001b[0m\u001b[0;34m\u001b[0m\u001b[0m\n",
      "\u001b[0;32m/Users/solvebio/Projects/solvebio-python/solvebio/client.pyc\u001b[0m in \u001b[0;36m_handle_api_error\u001b[0;34m(response)\u001b[0m\n\u001b[1;32m     40\u001b[0m     \u001b[0;32mif\u001b[0m \u001b[0mresponse\u001b[0m\u001b[0;34m.\u001b[0m\u001b[0mstatus_code\u001b[0m \u001b[0;32mnot\u001b[0m \u001b[0;32min\u001b[0m \u001b[0;34m[\u001b[0m\u001b[0;36m400\u001b[0m\u001b[0;34m,\u001b[0m \u001b[0;36m401\u001b[0m\u001b[0;34m,\u001b[0m \u001b[0;36m403\u001b[0m\u001b[0;34m,\u001b[0m \u001b[0;36m404\u001b[0m\u001b[0;34m]\u001b[0m\u001b[0;34m:\u001b[0m\u001b[0;34m\u001b[0m\u001b[0m\n\u001b[1;32m     41\u001b[0m         \u001b[0mlogger\u001b[0m\u001b[0;34m.\u001b[0m\u001b[0minfo\u001b[0m\u001b[0;34m(\u001b[0m\u001b[0;34m'API Error: %d'\u001b[0m \u001b[0;34m%\u001b[0m \u001b[0mresponse\u001b[0m\u001b[0;34m.\u001b[0m\u001b[0mstatus_code\u001b[0m\u001b[0;34m)\u001b[0m\u001b[0;34m\u001b[0m\u001b[0m\n\u001b[0;32m---> 42\u001b[0;31m     \u001b[0;32mraise\u001b[0m \u001b[0mSolveError\u001b[0m\u001b[0;34m(\u001b[0m\u001b[0mresponse\u001b[0m\u001b[0;34m=\u001b[0m\u001b[0mresponse\u001b[0m\u001b[0;34m)\u001b[0m\u001b[0;34m\u001b[0m\u001b[0m\n\u001b[0m\u001b[1;32m     43\u001b[0m \u001b[0;34m\u001b[0m\u001b[0m\n\u001b[1;32m     44\u001b[0m \u001b[0;34m\u001b[0m\u001b[0m\n",
      "\u001b[0;31mSolveError\u001b[0m: 404 Not Found (https://solvebio.api-stag.solvebio.com/v2/objects/1658666726768179211/beacon)\nError: No Global Beacon for Dataset:1658666726768179211"
     ]
    }
   ],
   "source": [
    "# Getting the status of global beacon on the dataset\n",
    "dataset.get_global_beacon_status()"
   ]
  }
 ],
 "metadata": {
  "interpreter": {
   "hash": "5365f12f12443ba93290371f268fae1547fcad5fb86506489681c9d374aefa71"
  },
  "kernelspec": {
   "display_name": "Python 2.7.18 64-bit ('venv')",
   "language": "python",
   "name": "python3"
  },
  "language_info": {
   "codemirror_mode": {
    "name": "ipython",
    "version": 2
   },
   "file_extension": ".py",
   "mimetype": "text/x-python",
   "name": "python",
   "nbconvert_exporter": "python",
   "pygments_lexer": "ipython2",
   "version": "2.7.18"
  },
  "orig_nbformat": 4
 },
 "nbformat": 4,
 "nbformat_minor": 2
}
